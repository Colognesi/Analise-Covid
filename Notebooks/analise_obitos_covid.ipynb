{
 "metadata": {
  "language_info": {
   "codemirror_mode": {
    "name": "ipython",
    "version": 3
   },
   "file_extension": ".py",
   "mimetype": "text/x-python",
   "name": "python",
   "nbconvert_exporter": "python",
   "pygments_lexer": "ipython3",
   "version": "3.8.1"
  },
  "orig_nbformat": 2,
  "kernelspec": {
   "name": "python3",
   "display_name": "Python 3.8.1 32-bit ('venv': venv)",
   "metadata": {
    "interpreter": {
     "hash": "e8c9a6f57b59517c3275b7968a0186867547aba77c94c712898e6b5d4d4477d3"
    }
   }
  }
 },
 "nbformat": 4,
 "nbformat_minor": 2,
 "cells": [
  {
   "cell_type": "code",
   "execution_count": 1,
   "metadata": {},
   "outputs": [],
   "source": [
    "# local de aquisição dos dados: https://transparencia.registrocivil.org.br/dados-covid-download\n",
    "# Instanciando ambiente virtual: https://www.alura.com.br/artigos/ambientes-virtuais-em-python\n",
    "# comando para instanciar a VM foi: py -m venv venv\n",
    "# para ativação foi utilizado: venv\\Scripts\\Activate"
   ]
  },
  {
   "cell_type": "code",
   "execution_count": 2,
   "metadata": {},
   "outputs": [],
   "source": [
    "import pandas as pd"
   ]
  },
  {
   "cell_type": "code",
   "execution_count": 5,
   "metadata": {},
   "outputs": [
    {
     "output_type": "stream",
     "name": "stdout",
     "text": [
      "(12393, 6) (14975, 6)\n"
     ]
    }
   ],
   "source": [
    "df_2019 = pd.read_csv('../Dados/obitos-2019.csv')\n",
    "df_2020 = pd.read_csv('../Dados/obitos-2020.csv')\n",
    "\n",
    "print(df_2019.shape, df_2020.shape)"
   ]
  },
  {
   "cell_type": "code",
   "execution_count": 31,
   "metadata": {},
   "outputs": [],
   "source": [
    "total_obitos_2019 = df_2019.groupby('tipo_doenca').sum()"
   ]
  },
  {
   "cell_type": "code",
   "execution_count": 32,
   "metadata": {},
   "outputs": [],
   "source": [
    "total_obitos_2020 = df_2020.groupby('tipo_doenca').sum()"
   ]
  },
  {
   "cell_type": "code",
   "execution_count": 36,
   "metadata": {},
   "outputs": [
    {
     "output_type": "execute_result",
     "data": {
      "text/plain": [
       "                                    total\n",
       "tipo_doenca                              \n",
       "COVID                       196420.000000\n",
       "INDETERMINADA                    1.395083\n",
       "INSUFICIENCIA_RESPIRATORIA       0.986205\n",
       "OUTRAS                           1.048037\n",
       "PNEUMONIA                        0.806185\n",
       "SEPTICEMIA                       0.930126\n",
       "SRAG                            11.079333"
      ],
      "text/html": "<div>\n<style scoped>\n    .dataframe tbody tr th:only-of-type {\n        vertical-align: middle;\n    }\n\n    .dataframe tbody tr th {\n        vertical-align: top;\n    }\n\n    .dataframe thead th {\n        text-align: right;\n    }\n</style>\n<table border=\"1\" class=\"dataframe\">\n  <thead>\n    <tr style=\"text-align: right;\">\n      <th></th>\n      <th>total</th>\n    </tr>\n    <tr>\n      <th>tipo_doenca</th>\n      <th></th>\n    </tr>\n  </thead>\n  <tbody>\n    <tr>\n      <th>COVID</th>\n      <td>196420.000000</td>\n    </tr>\n    <tr>\n      <th>INDETERMINADA</th>\n      <td>1.395083</td>\n    </tr>\n    <tr>\n      <th>INSUFICIENCIA_RESPIRATORIA</th>\n      <td>0.986205</td>\n    </tr>\n    <tr>\n      <th>OUTRAS</th>\n      <td>1.048037</td>\n    </tr>\n    <tr>\n      <th>PNEUMONIA</th>\n      <td>0.806185</td>\n    </tr>\n    <tr>\n      <th>SEPTICEMIA</th>\n      <td>0.930126</td>\n    </tr>\n    <tr>\n      <th>SRAG</th>\n      <td>11.079333</td>\n    </tr>\n  </tbody>\n</table>\n</div>"
     },
     "metadata": {},
     "execution_count": 36
    }
   ],
   "source": [
    "proporcao = total_obitos_2020 / total_obitos_2019\n",
    "proporcao"
   ]
  },
  {
   "cell_type": "code",
   "execution_count": null,
   "metadata": {},
   "outputs": [],
   "source": []
  }
 ]
}